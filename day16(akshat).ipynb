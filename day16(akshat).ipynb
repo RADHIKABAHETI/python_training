{
 "cells": [
  {
   "cell_type": "code",
   "execution_count": 4,
   "metadata": {},
   "outputs": [],
   "source": [
    "import cv2\n",
    "import matplotlib.pyplot as plt"
   ]
  },
  {
   "cell_type": "code",
   "execution_count": 5,
   "metadata": {},
   "outputs": [],
   "source": [
    "import pandas as pd\n",
    "import cv2 \n",
    "import face_recognition as fr\n",
    "import numpy as np"
   ]
  },
  {
   "cell_type": "code",
   "execution_count": 6,
   "metadata": {},
   "outputs": [
    {
     "name": "stdout",
     "output_type": "stream",
     "text": [
      "[Errno 2] No such file or directory: 'faces_data.tsv'\n"
     ]
    }
   ],
   "source": [
    "\n",
    "enc =[]\n",
    "names =[]\n",
    "vid = cv2.VideoCapture(0)\n",
    "fd = cv2.CascadeClassifier(\n",
    "    cv2.data.haarcascades + 'haarcascade_frontalface_default.xml'\n",
    ")\n",
    "try:\n",
    "   face_db=pd.read_csv('faces_data.tsv',index_col=0, )\n",
    "   data={\n",
    "       'name':face_db['name'].value.tolist(),\n",
    "       'encoding':face_db['encoding'].value.tolist(),\n",
    "   }\n",
    "except Exception as e:\n",
    "    print(e)\n",
    "    face_db={'name':[],'encoding':[]}\n",
    "\n",
    "\n",
    "frameCount =0\n",
    "frameLimit =20\n",
    "name=input('Enter your name:')\n",
    "while True:\n",
    "    flag, img = vid.read()\n",
    "    if flag:\n",
    "        faces = fd.detectMultiScale(\n",
    "            cv2.cvtColor(img,cv2.COLOR_BGR2GRAY),\n",
    "            scaleFactor = 1.1,\n",
    "            minNeighbors =5,\n",
    "            minSize = (50,50)\n",
    "        )\n",
    "        if len(faces)==1:\n",
    "            x,y,w,h = faces[0]\n",
    "            img_face = img[y:y+h,x:x+w,:].copy()\n",
    "            img_face = cv2.resize(img_face,(400,400), \n",
    "                                  interpolation=cv2.INTER_CUBIC)\n",
    "            #cv2.imwrite(f'{name}_{frameCount}.png',img_face)\n",
    "            face_encoding = fr.face_encodings(img_face)\n",
    "            if len(face_encoding)== 1:\n",
    "                print('recognition will start')\n",
    "                for ind,enc_value in enumerate(data['encoding']):\n",
    "                    matched=fr.compare_faces(\n",
    "                        face_encoding[0],np.array(eval(enc_value))\n",
    "                    )\n",
    "                if matched==True:\n",
    "                    cv2.putText(\n",
    "                        img,data['name'][ind],\n",
    "                        (50,50),cv2.FONT_HERSHEY_SIMPLEX,\n",
    "                        (0,0,255),8\n",
    "                    )\n",
    "                    break\n",
    "\n",
    "\n",
    "        cv2.imshow('preview',img)\n",
    "        key = cv2.waitKey(1)\n",
    "        if key == ord('q'):\n",
    "            break\n",
    "cv2.destroyAllWindows()\n",
    "vid.release()"
   ]
  },
  {
   "cell_type": "code",
   "execution_count": null,
   "metadata": {},
   "outputs": [
    {
     "name": "stdout",
     "output_type": "stream",
     "text": [
      "[Errno 2] No such file or directory: 'faces_data.tsv'\n",
      "1\n",
      "2\n",
      "3\n",
      "4\n",
      "5\n",
      "6\n"
     ]
    }
   ],
   "source": [
    "#recognition step\n",
    "\n",
    "\n",
    "import cv2\n",
    "import pandas as pd\n",
    "import face_recognition as fr\n",
    "\n",
    "\n",
    "enc =[]\n",
    "names =[]\n",
    "vid = cv2.VideoCapture(0)\n",
    "fd = cv2.CascadeClassifier(\n",
    "    cv2.data.haarcascades + 'haarcascade_frontalface_default.xml'\n",
    ")\n",
    "try:\n",
    "   face_db=pd.read_csv('faces_data.tsv',index_col=0)\n",
    "   data={\n",
    "       'name':face_db['name'].value.tolist(),\n",
    "       'encoding':face_db['encoding'].value.tolist(),\n",
    "   }\n",
    "except Exception as e:\n",
    "    print(e)\n",
    "    face_db={'name':[],'encoding':[]}\n",
    "\n",
    "\n",
    "frameCount =0\n",
    "frameLimit =20\n",
    "name=input('Enter your name:')\n",
    "while True:\n",
    "    flag, img = vid.read()\n",
    "    if flag:\n",
    "        faces = fd.detectMultiScale(\n",
    "            cv2.cvtColor(img,cv2.COLOR_BGR2GRAY),\n",
    "            scaleFactor = 1.1,\n",
    "            minNeighbors =5,\n",
    "            minSize = (50,50)\n",
    "        )\n",
    "        if len(faces)==1:\n",
    "            x,y,w,h = faces[0]\n",
    "            img_face = img[y:y+h,x:x+w,:].copy()\n",
    "            img_face = cv2.resize(img_face,(400,400), \n",
    "                                  interpolation=cv2.INTER_CUBIC)\n",
    "            #cv2.imwrite(f'{name}_{frameCount}.png',img_face)\n",
    "            face_encoding = fr.face_encodings(img_face)\n",
    "            if len(face_encoding)== 1:\n",
    "                enc.append(face_encoding[0])\n",
    "                names.append(name)\n",
    "                frameCount  +=1\n",
    "                print(frameCount)\n",
    "                if frameCount ==frameLimit:\n",
    "                    data = {'name':names, 'encoding':enc}\n",
    "                    pd.DataFrame(data).to_csv('faces_data.tsv',sep='\\t')\n",
    "                    break\n",
    "\n",
    "\n",
    "        cv2.imshow('preview',img)\n",
    "        key = cv2.waitKey(1)\n",
    "        if key == ord('q'):\n",
    "            break\n",
    "cv2.destroyAllWindows()\n",
    "vid.release()"
   ]
  },
  {
   "cell_type": "code",
   "execution_count": null,
   "metadata": {},
   "outputs": [],
   "source": [
    "##git-scm.com"
   ]
  },
  {
   "cell_type": "code",
   "execution_count": null,
   "metadata": {},
   "outputs": [],
   "source": []
  }
 ],
 "metadata": {
  "kernelspec": {
   "display_name": "Python 3",
   "language": "python",
   "name": "python3"
  },
  "language_info": {
   "codemirror_mode": {
    "name": "ipython",
    "version": 3
   },
   "file_extension": ".py",
   "mimetype": "text/x-python",
   "name": "python",
   "nbconvert_exporter": "python",
   "pygments_lexer": "ipython3",
   "version": "3.10.11"
  },
  "orig_nbformat": 4
 },
 "nbformat": 4,
 "nbformat_minor": 2
}
