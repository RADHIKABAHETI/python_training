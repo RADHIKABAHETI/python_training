{
 "cells": [
  {
   "cell_type": "code",
   "execution_count": 19,
   "metadata": {},
   "outputs": [
    {
     "ename": "IndentationError",
     "evalue": "unexpected indent (4228939829.py, line 53)",
     "output_type": "error",
     "traceback": [
      "\u001b[1;36m  Cell \u001b[1;32mIn[19], line 53\u001b[1;36m\u001b[0m\n\u001b[1;33m    cv2.putText(\u001b[0m\n\u001b[1;37m    ^\u001b[0m\n\u001b[1;31mIndentationError\u001b[0m\u001b[1;31m:\u001b[0m unexpected indent\n"
     ]
    }
   ],
   "source": [
    "# Recognition Step\n",
    "#######################\n",
    "\n",
    "import cv2\n",
    "import pandas as pd\n",
    "import face_recognition as fr\n",
    "import numpy as np\n",
    "import webbrowser as wb\n",
    "\n",
    "vid = cv2.VideoCapture(0)\n",
    "fd=cv2.CascadeClassifier(\n",
    "            cv2.data.haarcascades+'haarcascade_frontalface_default.xml'\n",
    ")\n",
    "\n",
    "try:\n",
    "    face_db = pd.read_csv('faces_data.tsv', index_col=0, sep='\\t')\n",
    "    data = {\n",
    "        'name' : face_db['name'].values.tolist(),\n",
    "        'encoding' : face_db['encoding'].values.tolist(),\n",
    "    }\n",
    "except Exception as e:\n",
    "    print(e)\n",
    "    data = {'name' : [], 'encoding' : []}\n",
    "\n",
    "\n",
    "\n",
    "while True:\n",
    "    flag, img=vid.read()\n",
    "    if flag:\n",
    "        faces = fd.detectMultiScale(\n",
    "            cv2.cvtColor(img,cv2.COLOR_BGR2GRAY),\n",
    "            scaleFactor = 1.1,\n",
    "            minNeighbors=5,\n",
    "            minSize = (50,50)\n",
    "        )\n",
    "\n",
    "        if len(faces)==1:\n",
    "            x,y,w,h = faces[0]\n",
    "            img_face = img[y:y+h, x:x+w, :].copy()\n",
    "            img_face= cv2.resize(img_face,(400,400),\n",
    "                                 interpolation=cv2.INTER_CUBIC)\n",
    "            #cv2.imwrite(f'{name}_{frameCount}.png', img_face)\n",
    "            face_encoding = fr.face_encodings(img_face)\n",
    "\n",
    "            if len(face_encoding) == 1:\n",
    "                for ind, enc_value in enumerate(data['encoding']):\n",
    "                    matched = fr.compare_faces(\n",
    "                        face_encoding, np.array(eval(enc_value))\n",
    "                    )[0]\n",
    "                    if matched == True:\n",
    "                        name = data['name'] [ind]\n",
    "\n",
    "                         cv2.putText(\n",
    "                            img, name,\n",
    "                            (50,50), cv2.FONT_HERSHEY_SIMPLEX, 1.5,\n",
    "                            (0,0,255), 8\n",
    "                        )\n",
    "                        if name == 'radhika':\n",
    "                            wb.open_new('https://youtube.com')\n",
    "                        break\n",
    "                    \n",
    "        cv2.imshow('preview', img)\n",
    "        key=cv2.waitKey(1)\n",
    "        if key == ord('q'):\n",
    "            break\n",
    "cv2.waitKey(1)\n",
    "cv2.destroyAllWindows()\n",
    "vid.release()\n",
    "            "
   ]
  }
 ],
 "metadata": {
  "kernelspec": {
   "display_name": "Python 3",
   "language": "python",
   "name": "python3"
  },
  "language_info": {
   "codemirror_mode": {
    "name": "ipython",
    "version": 3
   },
   "file_extension": ".py",
   "mimetype": "text/x-python",
   "name": "python",
   "nbconvert_exporter": "python",
   "pygments_lexer": "ipython3",
   "version": "3.10.11"
  },
  "orig_nbformat": 4
 },
 "nbformat": 4,
 "nbformat_minor": 2
}
